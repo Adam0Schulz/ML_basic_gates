{
  "nbformat": 4,
  "nbformat_minor": 0,
  "metadata": {
    "colab": {
      "provenance": [],
      "authorship_tag": "ABX9TyPRcPmXjV9f6ILm/o94OQ2P",
      "include_colab_link": true
    },
    "kernelspec": {
      "name": "python3",
      "display_name": "Python 3"
    },
    "language_info": {
      "name": "python"
    }
  },
  "cells": [
    {
      "cell_type": "markdown",
      "metadata": {
        "id": "view-in-github",
        "colab_type": "text"
      },
      "source": [
        "<a href=\"https://colab.research.google.com/github/Adam0Schulz/ML_basic_gates/blob/master/AND_gate.ipynb\" target=\"_parent\"><img src=\"https://colab.research.google.com/assets/colab-badge.svg\" alt=\"Open In Colab\"/></a>"
      ]
    },
    {
      "cell_type": "code",
      "execution_count": 1,
      "metadata": {
        "id": "r6IqdBtjY4JA"
      },
      "outputs": [],
      "source": [
        "import numpy as np\n",
        "from tensorflow.keras.models import Sequential\n",
        "from tensorflow.keras.layers import Dense, Activation\n",
        "from tensorflow.keras import optimizers"
      ]
    },
    {
      "cell_type": "code",
      "source": [
        "model = Sequential()\n",
        "model.add(Dense(1, input_dim=2,activation='sigmoid'))\n",
        "adam = optimizers.Adam(learning_rate=0.05)\n",
        "model.compile(loss='binary_crossentropy', optimizer=adam)"
      ],
      "metadata": {
        "id": "xCWSWQxNZI7E"
      },
      "execution_count": 14,
      "outputs": []
    },
    {
      "cell_type": "code",
      "source": [
        "x = np.array([[0,0],[1,0],[0,1],[1,1]])\n",
        "y = np.array([[0],[0],[0],[1]])"
      ],
      "metadata": {
        "id": "APbbOo-6ah21"
      },
      "execution_count": 6,
      "outputs": []
    },
    {
      "cell_type": "code",
      "source": [
        "history = model.fit(x,y,epochs=1000, batch_size=2, verbose=1)"
      ],
      "metadata": {
        "id": "kZoERVp6ajp3"
      },
      "execution_count": null,
      "outputs": []
    },
    {
      "cell_type": "code",
      "source": [
        "print(model.predict([[0,0]]))\n",
        "print(model.predict([[1,0]]))\n",
        "print(model.predict([[0,1]]))\n",
        "print(model.predict([[1,1]]))\n"
      ],
      "metadata": {
        "colab": {
          "base_uri": "https://localhost:8080/"
        },
        "id": "fREHaR8YalsS",
        "outputId": "e286f9a7-042b-41a4-ae79-feeff43b5774"
      },
      "execution_count": 17,
      "outputs": [
        {
          "output_type": "stream",
          "name": "stdout",
          "text": [
            "1/1 [==============================] - 0s 48ms/step\n",
            "[[8.575075e-06]]\n",
            "1/1 [==============================] - 0s 42ms/step\n",
            "[[0.0180041]]\n",
            "1/1 [==============================] - 0s 43ms/step\n",
            "[[0.01813306]]\n",
            "1/1 [==============================] - 0s 45ms/step\n",
            "[[0.97529984]]\n"
          ]
        }
      ]
    }
  ]
}