{
  "nbformat": 4,
  "nbformat_minor": 0,
  "metadata": {
    "colab": {
      "provenance": [],
      "authorship_tag": "ABX9TyM5dNWSidcliKa8xG7fM5C6",
      "include_colab_link": true
    },
    "kernelspec": {
      "name": "python3",
      "display_name": "Python 3"
    },
    "language_info": {
      "name": "python"
    }
  },
  "cells": [
    {
      "cell_type": "markdown",
      "metadata": {
        "id": "view-in-github",
        "colab_type": "text"
      },
      "source": [
        "<a href=\"https://colab.research.google.com/github/Adam0Schulz/ML_basic_gates/blob/master/NAND_gate.ipynb\" target=\"_parent\"><img src=\"https://colab.research.google.com/assets/colab-badge.svg\" alt=\"Open In Colab\"/></a>"
      ]
    },
    {
      "cell_type": "code",
      "execution_count": null,
      "metadata": {
        "id": "seEiQS8dBsGc"
      },
      "outputs": [],
      "source": [
        "import numpy as np\n",
        "from tensorflow.keras.models import Sequential\n",
        "from tensorflow.keras.layers import Dense\n",
        "from tensorflow.keras import optimizers\n"
      ]
    },
    {
      "cell_type": "code",
      "source": [
        "model = Sequential()\n",
        "model.add(Dense(1, input_dim=2, activation='sigmoid', use_bias=True))\n",
        "adam = optimizers.Adam(learning_rate = 0.1)\n",
        "model.compile(loss='binary_crossentropy', optimizer=adam) # categorical for more than two\n",
        "model.summary()\n",
        "\n"
      ],
      "metadata": {
        "id": "GTGVZ_8cFfm0"
      },
      "execution_count": null,
      "outputs": []
    },
    {
      "cell_type": "code",
      "source": [
        "x = np.array([[0,0], [0,1], [1,0], [1,1]])\n",
        "y = np.array([[1],   [1],   [1],   [0]])\n",
        "\n"
      ],
      "metadata": {
        "id": "i1EJyiNMGHWs"
      },
      "execution_count": null,
      "outputs": []
    },
    {
      "cell_type": "code",
      "source": [
        "model.fit(x, y, epochs=1000, batch_size=2, verbose=1)"
      ],
      "metadata": {
        "id": "LLWhfoLnIH6I"
      },
      "execution_count": null,
      "outputs": []
    },
    {
      "cell_type": "code",
      "source": [
        "print(model.predict([[0,0]]))\n",
        "print(model.predict([[1,0]]))\n",
        "print(model.predict([[0,1]]))\n",
        "print(model.predict([[1,1]]))\n",
        "\n"
      ],
      "metadata": {
        "colab": {
          "base_uri": "https://localhost:8080/"
        },
        "id": "R-JoiogIKN4V",
        "outputId": "2d77e164-a6c0-44ff-b41d-09b68c95f23e"
      },
      "execution_count": null,
      "outputs": [
        {
          "output_type": "stream",
          "name": "stdout",
          "text": [
            "1/1 [==============================] - 0s 44ms/step\n",
            "[[0.99999976]]\n",
            "1/1 [==============================] - 0s 45ms/step\n",
            "[[0.9946333]]\n",
            "1/1 [==============================] - 0s 45ms/step\n",
            "[[0.9944971]]\n",
            "1/1 [==============================] - 0s 43ms/step\n",
            "[[0.00743792]]\n"
          ]
        }
      ]
    }
  ]
}