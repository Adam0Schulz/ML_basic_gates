{
  "nbformat": 4,
  "nbformat_minor": 0,
  "metadata": {
    "colab": {
      "provenance": [],
      "authorship_tag": "ABX9TyPxUFq23+hHUSHZGWicoliG",
      "include_colab_link": true
    },
    "kernelspec": {
      "name": "python3",
      "display_name": "Python 3"
    },
    "language_info": {
      "name": "python"
    }
  },
  "cells": [
    {
      "cell_type": "markdown",
      "metadata": {
        "id": "view-in-github",
        "colab_type": "text"
      },
      "source": [
        "<a href=\"https://colab.research.google.com/github/Adam0Schulz/ML_basic_gates/blob/master/OR_gate.ipynb\" target=\"_parent\"><img src=\"https://colab.research.google.com/assets/colab-badge.svg\" alt=\"Open In Colab\"/></a>"
      ]
    },
    {
      "cell_type": "code",
      "execution_count": 1,
      "metadata": {
        "id": "lZ0tKjeVcio_"
      },
      "outputs": [],
      "source": [
        "import numpy as np\n",
        "from tensorflow.keras.models import Sequential\n",
        "from tensorflow.keras.layers import Dense, Activation\n",
        "from tensorflow.keras import optimizers"
      ]
    },
    {
      "cell_type": "code",
      "source": [
        "model = Sequential()\n",
        "model.add(Dense(1, input_dim=2,activation='sigmoid'))\n",
        "adam = optimizers.Adam(learning_rate=0.05)\n",
        "model.compile(loss='binary_crossentropy', optimizer=adam)"
      ],
      "metadata": {
        "id": "2z8wOEIocn_x"
      },
      "execution_count": 2,
      "outputs": []
    },
    {
      "cell_type": "code",
      "source": [
        "x = np.array([[0,0],[1,0],[0,1],[1,1]])\n",
        "y = np.array([[0],[1],[1],[1]])"
      ],
      "metadata": {
        "id": "A3-hbdFBcq6x"
      },
      "execution_count": 3,
      "outputs": []
    },
    {
      "cell_type": "code",
      "source": [
        "history = model.fit(x,y,epochs=1000, batch_size=2, verbose=1)"
      ],
      "metadata": {
        "id": "jZr1ntMuctqJ"
      },
      "execution_count": null,
      "outputs": []
    },
    {
      "cell_type": "code",
      "source": [
        "print(model.predict([[0,0]]))\n",
        "print(model.predict([[1,0]]))\n",
        "print(model.predict([[0,1]]))\n",
        "print(model.predict([[1,1]]))\n"
      ],
      "metadata": {
        "colab": {
          "base_uri": "https://localhost:8080/"
        },
        "id": "c6B5RMzmcwxc",
        "outputId": "a604db98-8dae-4b68-d242-97e77a1c2c68"
      },
      "execution_count": 10,
      "outputs": [
        {
          "output_type": "stream",
          "name": "stdout",
          "text": [
            "1/1 [==============================] - 0s 84ms/step\n",
            "[[0.00446261]]\n",
            "1/1 [==============================] - 0s 68ms/step\n",
            "[[0.9982086]]\n",
            "1/1 [==============================] - 0s 70ms/step\n",
            "[[0.99919325]]\n",
            "1/1 [==============================] - 0s 71ms/step\n",
            "[[1.]]\n"
          ]
        }
      ]
    }
  ]
}