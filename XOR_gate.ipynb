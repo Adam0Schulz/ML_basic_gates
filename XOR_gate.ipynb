{
  "nbformat": 4,
  "nbformat_minor": 0,
  "metadata": {
    "colab": {
      "provenance": [],
      "authorship_tag": "ABX9TyM13MU2Ig59AQwMMuCtsDtY",
      "include_colab_link": true
    },
    "kernelspec": {
      "name": "python3",
      "display_name": "Python 3"
    },
    "language_info": {
      "name": "python"
    }
  },
  "cells": [
    {
      "cell_type": "markdown",
      "metadata": {
        "id": "view-in-github",
        "colab_type": "text"
      },
      "source": [
        "<a href=\"https://colab.research.google.com/github/Adam0Schulz/ML_basic_gates/blob/master/XOR_gate.ipynb\" target=\"_parent\"><img src=\"https://colab.research.google.com/assets/colab-badge.svg\" alt=\"Open In Colab\"/></a>"
      ]
    },
    {
      "cell_type": "code",
      "execution_count": 1,
      "metadata": {
        "id": "8boG03Udd2f-"
      },
      "outputs": [],
      "source": [
        "import numpy as np\n",
        "from tensorflow.keras.models import Sequential\n",
        "from tensorflow.keras.layers import Dense, Activation\n",
        "from tensorflow.keras import optimizers"
      ]
    },
    {
      "cell_type": "code",
      "source": [
        "model = Sequential()\n",
        "model.add(Dense(2, input_dim=2, activation='sigmoid'))\n",
        "model.add(Dense(1, activation='sigmoid'))\n",
        "adam = optimizers.Adam(learning_rate=0.05)\n",
        "model.compile(loss='binary_crossentropy', optimizer=adam)"
      ],
      "metadata": {
        "id": "-FiRfhVod5Cy"
      },
      "execution_count": 32,
      "outputs": []
    },
    {
      "cell_type": "code",
      "source": [
        "x = np.array([[0,0],[1,0],[0,1],[1,1]])\n",
        "y = np.array([[0],[1],[1],[0]])"
      ],
      "metadata": {
        "id": "iTclBB2gd8ah"
      },
      "execution_count": 33,
      "outputs": []
    },
    {
      "cell_type": "code",
      "source": [
        "history = model.fit(x,y,epochs=1000, batch_size=2, verbose=1)"
      ],
      "metadata": {
        "id": "PpaO2r4cd-d2"
      },
      "execution_count": null,
      "outputs": []
    },
    {
      "cell_type": "code",
      "source": [
        "print(model.predict([[0,0]]))\n",
        "print(model.predict([[1,0]]))\n",
        "print(model.predict([[0,1]]))\n",
        "print(model.predict([[1,1]]))\n"
      ],
      "metadata": {
        "colab": {
          "base_uri": "https://localhost:8080/"
        },
        "id": "Nm94SA9BeAs9",
        "outputId": "f8194ea9-41b7-48e9-ef55-9af9c5243281"
      },
      "execution_count": 36,
      "outputs": [
        {
          "output_type": "stream",
          "name": "stdout",
          "text": [
            "1/1 [==============================] - 0s 40ms/step\n",
            "[[0.00659032]]\n",
            "1/1 [==============================] - 0s 37ms/step\n",
            "[[0.986426]]\n",
            "1/1 [==============================] - 0s 41ms/step\n",
            "[[0.9949911]]\n",
            "1/1 [==============================] - 0s 38ms/step\n",
            "[[0.00571767]]\n"
          ]
        }
      ]
    }
  ]
}